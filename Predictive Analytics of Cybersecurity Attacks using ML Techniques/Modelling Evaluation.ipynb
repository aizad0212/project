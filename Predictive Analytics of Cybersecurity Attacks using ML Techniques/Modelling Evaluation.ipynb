{
 "cells": [
  {
   "cell_type": "code",
   "execution_count": 1,
   "id": "a9aaa2c1-4987-479f-b10b-4bbe138885cd",
   "metadata": {},
   "outputs": [],
   "source": [
    "# Model Selection & Evaluation by using CIC-IDS2017 dataset that have cleaned"
   ]
  },
  {
   "cell_type": "code",
   "execution_count": 3,
   "id": "ec5782e0-0b2b-4e35-a97e-e43c05770d0e",
   "metadata": {},
   "outputs": [],
   "source": [
    "import pandas as pd\n",
    "from sklearn.model_selection import train_test_split\n",
    "from sklearn.preprocessing import StandardScaler, LabelEncoder\n",
    "from sklearn.metrics import classification_report\n",
    "\n",
    "# Machine learning models\n",
    "from sklearn.linear_model import LogisticRegression\n",
    "from sklearn.ensemble import RandomForestClassifier\n",
    "from sklearn.svm import SVC\n",
    "from xgboost import XGBClassifier"
   ]
  },
  {
   "cell_type": "code",
   "execution_count": 4,
   "id": "38f3f2e7-1bf4-4a6e-9893-b2800aeae66a",
   "metadata": {},
   "outputs": [],
   "source": [
    "# Load the dataset\n",
    "df = pd.read_csv('Dataset/Cleaned-IDS_Dataset.csv')"
   ]
  },
  {
   "cell_type": "code",
   "execution_count": 6,
   "id": "39bc956b-567b-416b-abf1-cac7fa996af0",
   "metadata": {},
   "outputs": [],
   "source": [
    "# Define features and target\n",
    "X = df.drop(columns=['Attack Type'])\n",
    "y = df['Attack Type']"
   ]
  },
  {
   "cell_type": "code",
   "execution_count": 7,
   "id": "5e80e92e-449e-4b62-b189-d6237f2139e2",
   "metadata": {},
   "outputs": [],
   "source": [
    "# Encode labels for XGBoost compatibility\n",
    "le = LabelEncoder()\n",
    "y_encoded = le.fit_transform(y)  # Used only for XGBoost"
   ]
  },
  {
   "cell_type": "code",
   "execution_count": 8,
   "id": "f2a9be6a-143b-4848-8114-d06d949192b3",
   "metadata": {},
   "outputs": [],
   "source": [
    "# Train-test split\n",
    "X_train, X_test, y_train, y_test = train_test_split(X, y, stratify=y, test_size=0.2, random_state=42)\n",
    "X_train_enc, X_test_enc, y_train_enc, y_test_enc = train_test_split(X, y_encoded, stratify=y_encoded, test_size=0.2, random_state=42)"
   ]
  },
  {
   "cell_type": "code",
   "execution_count": 9,
   "id": "f45872a7-90bc-4858-8cb8-c6cc1b6841c7",
   "metadata": {},
   "outputs": [],
   "source": [
    "# Standardize features\n",
    "scaler = StandardScaler()\n",
    "X_train_scaled = scaler.fit_transform(X_train)\n",
    "X_test_scaled = scaler.transform(X_test)"
   ]
  },
  {
   "cell_type": "code",
   "execution_count": 10,
   "id": "0a0439ae-f64e-4368-b9ad-ea8605a0fe36",
   "metadata": {},
   "outputs": [
    {
     "name": "stdout",
     "output_type": "stream",
     "text": [
      "Model: Logistic Regression\n",
      "                precision    recall  f1-score   support\n",
      "\n",
      "          Bots       0.62      0.01      0.03       389\n",
      "   Brute Force       0.99      0.77      0.87      1830\n",
      "          DDoS       0.99      0.97      0.98     25603\n",
      "           DoS       0.99      0.92      0.96     38749\n",
      "Normal Traffic       0.99      0.98      0.99    419012\n",
      " Port Scanning       0.73      0.99      0.84     18139\n",
      "   Web Attacks       0.43      0.01      0.01       429\n",
      "\n",
      "      accuracy                           0.98    504151\n",
      "     macro avg       0.82      0.67      0.67    504151\n",
      "  weighted avg       0.98      0.98      0.98    504151\n",
      "\n"
     ]
    }
   ],
   "source": [
    "# Modelling - Logistic Regression \n",
    "from sklearn.linear_model import LogisticRegression\n",
    "\n",
    "print(\"Model: Logistic Regression\")\n",
    "lr = LogisticRegression(max_iter=1000)\n",
    "lr.fit(X_train_scaled, y_train)\n",
    "y_pred_lr = lr.predict(X_test_scaled)\n",
    "print(classification_report(y_test, y_pred_lr))"
   ]
  },
  {
   "cell_type": "code",
   "execution_count": 11,
   "id": "0e573883-a94f-4970-adfd-e7013500f7b4",
   "metadata": {},
   "outputs": [
    {
     "name": "stdout",
     "output_type": "stream",
     "text": [
      "Model: Random Forest\n",
      "                precision    recall  f1-score   support\n",
      "\n",
      "          Bots       0.87      0.71      0.78       389\n",
      "   Brute Force       1.00      1.00      1.00      1830\n",
      "          DDoS       1.00      1.00      1.00     25603\n",
      "           DoS       1.00      1.00      1.00     38749\n",
      "Normal Traffic       1.00      1.00      1.00    419012\n",
      " Port Scanning       0.99      1.00      0.99     18139\n",
      "   Web Attacks       1.00      0.97      0.98       429\n",
      "\n",
      "      accuracy                           1.00    504151\n",
      "     macro avg       0.98      0.95      0.97    504151\n",
      "  weighted avg       1.00      1.00      1.00    504151\n",
      "\n"
     ]
    }
   ],
   "source": [
    "# Modelling - Random Forest\n",
    "from sklearn.ensemble import RandomForestClassifier\n",
    "\n",
    "print(\"Model: Random Forest\")\n",
    "rf = RandomForestClassifier(n_estimators=100, random_state=42)\n",
    "rf.fit(X_train_scaled, y_train)\n",
    "y_pred_rf = rf.predict(X_test_scaled)\n",
    "print(classification_report(y_test, y_pred_rf))"
   ]
  },
  {
   "cell_type": "code",
   "execution_count": 12,
   "id": "60dce371-43b9-4dd3-9499-b5f16acb7967",
   "metadata": {},
   "outputs": [
    {
     "name": "stdout",
     "output_type": "stream",
     "text": [
      "Model: XGBoost\n"
     ]
    },
    {
     "name": "stderr",
     "output_type": "stream",
     "text": [
      "C:\\Users\\user\\anaconda3\\Lib\\site-packages\\xgboost\\training.py:183: UserWarning: [20:27:04] WARNING: C:\\actions-runner\\_work\\xgboost\\xgboost\\src\\learner.cc:738: \n",
      "Parameters: { \"use_label_encoder\" } are not used.\n",
      "\n",
      "  bst.update(dtrain, iteration=i, fobj=obj)\n"
     ]
    },
    {
     "name": "stdout",
     "output_type": "stream",
     "text": [
      "                precision    recall  f1-score   support\n",
      "\n",
      "          Bots       0.91      0.74      0.82       389\n",
      "   Brute Force       1.00      1.00      1.00      1830\n",
      "          DDoS       1.00      1.00      1.00     25603\n",
      "           DoS       1.00      1.00      1.00     38749\n",
      "Normal Traffic       1.00      1.00      1.00    419012\n",
      " Port Scanning       0.99      1.00      0.99     18139\n",
      "   Web Attacks       0.99      0.99      0.99       429\n",
      "\n",
      "      accuracy                           1.00    504151\n",
      "     macro avg       0.98      0.96      0.97    504151\n",
      "  weighted avg       1.00      1.00      1.00    504151\n",
      "\n"
     ]
    }
   ],
   "source": [
    "# Modelling - XGBoost\n",
    "from xgboost import XGBClassifier\n",
    "\n",
    "print(\"Model: XGBoost\")\n",
    "xgb = XGBClassifier(use_label_encoder=False, eval_metric='mlogloss')\n",
    "xgb.fit(X_train_scaled, y_train_enc)\n",
    "y_pred_xgb = xgb.predict(X_test_scaled)\n",
    "print(classification_report(y_test_enc, y_pred_xgb, target_names=le.classes_))\n"
   ]
  },
  {
   "cell_type": "code",
   "execution_count": null,
   "id": "81d45285-87fb-4d0f-b5d1-2e2f6df62b16",
   "metadata": {},
   "outputs": [],
   "source": [
    "# Modelling - SVM\n",
    "from sklearn.svm import SVC\n",
    "\n",
    "print(\"Model: SVM\")\n",
    "svm = SVC()\n",
    "svm.fit(X_train_scaled, y_train)\n",
    "y_pred_svm = svm.predict(X_test_scaled)\n",
    "print(classification_report(y_test, y_pred_svm))"
   ]
  }
 ],
 "metadata": {
  "kernelspec": {
   "display_name": "Python [conda env:base] *",
   "language": "python",
   "name": "conda-base-py"
  },
  "language_info": {
   "codemirror_mode": {
    "name": "ipython",
    "version": 3
   },
   "file_extension": ".py",
   "mimetype": "text/x-python",
   "name": "python",
   "nbconvert_exporter": "python",
   "pygments_lexer": "ipython3",
   "version": "3.12.7"
  }
 },
 "nbformat": 4,
 "nbformat_minor": 5
}
