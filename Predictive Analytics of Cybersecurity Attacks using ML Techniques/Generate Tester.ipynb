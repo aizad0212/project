{
 "cells": [
  {
   "cell_type": "code",
   "execution_count": 1,
   "id": "d1283963-870c-490e-8751-694d124c0ec3",
   "metadata": {},
   "outputs": [],
   "source": [
    "import pandas as pd"
   ]
  },
  {
   "cell_type": "code",
   "execution_count": 2,
   "id": "607c2f05-2ef3-4d84-a679-112114b7a879",
   "metadata": {},
   "outputs": [],
   "source": [
    "df = pd.read_csv(\"Dataset/Cleaned-IDS_Dataset.csv\")"
   ]
  },
  {
   "cell_type": "code",
   "execution_count": 3,
   "id": "1f5452a3-e0bc-42e1-b7da-81fb58e0208c",
   "metadata": {},
   "outputs": [
    {
     "name": "stderr",
     "output_type": "stream",
     "text": [
      "C:\\Users\\user\\AppData\\Local\\Temp\\ipykernel_31456\\1735151698.py:2: DeprecationWarning: DataFrameGroupBy.apply operated on the grouping columns. This behavior is deprecated, and in a future version of pandas the grouping columns will be excluded from the operation. Either pass `include_groups=False` to exclude the groupings or explicitly select the grouping columns after groupby to silence this warning.\n",
      "  sampled_attacks = df.groupby(\"Attack Type\").apply(lambda x: x.sample(2)).reset_index(drop=True)\n"
     ]
    }
   ],
   "source": [
    "# Show one sample row for each unique attack type\n",
    "sampled_attacks = df.groupby(\"Attack Type\").apply(lambda x: x.sample(2)).reset_index(drop=True)"
   ]
  },
  {
   "cell_type": "code",
   "execution_count": 4,
   "id": "dea31edc-b729-4eea-abcb-3a09528ba620",
   "metadata": {},
   "outputs": [],
   "source": [
    "sampled_attacks.to_csv(\"backup/Test/IDS_Tester3.csv\", index=False)"
   ]
  },
  {
   "cell_type": "code",
   "execution_count": null,
   "id": "05616e7b-f939-456c-8c6d-d461a6592565",
   "metadata": {},
   "outputs": [],
   "source": []
  }
 ],
 "metadata": {
  "kernelspec": {
   "display_name": "Python [conda env:base] *",
   "language": "python",
   "name": "conda-base-py"
  },
  "language_info": {
   "codemirror_mode": {
    "name": "ipython",
    "version": 3
   },
   "file_extension": ".py",
   "mimetype": "text/x-python",
   "name": "python",
   "nbconvert_exporter": "python",
   "pygments_lexer": "ipython3",
   "version": "3.12.7"
  }
 },
 "nbformat": 4,
 "nbformat_minor": 5
}
